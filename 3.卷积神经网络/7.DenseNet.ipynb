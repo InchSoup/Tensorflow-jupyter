{
 "cells": [
  {
   "cell_type": "markdown",
   "metadata": {},
   "source": [
    "# DenseNet"
   ]
  },
  {
   "cell_type": "code",
   "execution_count": 1,
   "metadata": {
    "collapsed": true
   },
   "outputs": [],
   "source": [
    "import tensorflow as tf\n",
    "from utils import cifar10_input "
   ]
  },
  {
   "cell_type": "code",
   "execution_count": 2,
   "metadata": {},
   "outputs": [
    {
     "name": "stdout",
     "output_type": "stream",
     "text": [
      "WARNING:tensorflow:From E:\\project\\jupyter\\天池 深度学习理论与实战\\第四章 卷积神经网络\\utils\\cifar10_input.py:233: string_input_producer (from tensorflow.python.training.input) is deprecated and will be removed in a future version.\n",
      "Instructions for updating:\n",
      "Queue-based input pipelines have been replaced by `tf.data`. Use `tf.data.Dataset.from_tensor_slices(string_tensor).shuffle(tf.shape(input_tensor, out_type=tf.int64)[0]).repeat(num_epochs)`. If `shuffle=False`, omit the `.shuffle(...)`.\n",
      "WARNING:tensorflow:From E:\\software\\Anaconda3\\envs\\tensorflow-gpu\\lib\\site-packages\\tensorflow\\python\\training\\input.py:276: input_producer (from tensorflow.python.training.input) is deprecated and will be removed in a future version.\n",
      "Instructions for updating:\n",
      "Queue-based input pipelines have been replaced by `tf.data`. Use `tf.data.Dataset.from_tensor_slices(input_tensor).shuffle(tf.shape(input_tensor, out_type=tf.int64)[0]).repeat(num_epochs)`. If `shuffle=False`, omit the `.shuffle(...)`.\n",
      "WARNING:tensorflow:From E:\\software\\Anaconda3\\envs\\tensorflow-gpu\\lib\\site-packages\\tensorflow\\python\\training\\input.py:188: limit_epochs (from tensorflow.python.training.input) is deprecated and will be removed in a future version.\n",
      "Instructions for updating:\n",
      "Queue-based input pipelines have been replaced by `tf.data`. Use `tf.data.Dataset.from_tensors(tensor).repeat(num_epochs)`.\n",
      "WARNING:tensorflow:From E:\\software\\Anaconda3\\envs\\tensorflow-gpu\\lib\\site-packages\\tensorflow\\python\\training\\input.py:197: QueueRunner.__init__ (from tensorflow.python.training.queue_runner_impl) is deprecated and will be removed in a future version.\n",
      "Instructions for updating:\n",
      "To construct input pipelines, use the `tf.data` module.\n",
      "WARNING:tensorflow:From E:\\software\\Anaconda3\\envs\\tensorflow-gpu\\lib\\site-packages\\tensorflow\\python\\training\\input.py:197: add_queue_runner (from tensorflow.python.training.queue_runner_impl) is deprecated and will be removed in a future version.\n",
      "Instructions for updating:\n",
      "To construct input pipelines, use the `tf.data` module.\n",
      "WARNING:tensorflow:From E:\\project\\jupyter\\天池 深度学习理论与实战\\第四章 卷积神经网络\\utils\\cifar10_input.py:82: FixedLengthRecordReader.__init__ (from tensorflow.python.ops.io_ops) is deprecated and will be removed in a future version.\n",
      "Instructions for updating:\n",
      "Queue-based input pipelines have been replaced by `tf.data`. Use `tf.data.FixedLengthRecordDataset`.\n",
      "WARNING:tensorflow:From E:\\project\\jupyter\\天池 深度学习理论与实战\\第四章 卷积神经网络\\utils\\cifar10_input.py:129: shuffle_batch (from tensorflow.python.training.input) is deprecated and will be removed in a future version.\n",
      "Instructions for updating:\n",
      "Queue-based input pipelines have been replaced by `tf.data`. Use `tf.data.Dataset.shuffle(min_after_dequeue).batch(batch_size)`.\n",
      "WARNING:tensorflow:From E:\\project\\jupyter\\天池 深度学习理论与实战\\第四章 卷积神经网络\\utils\\cifar10_input.py:135: batch (from tensorflow.python.training.input) is deprecated and will be removed in a future version.\n",
      "Instructions for updating:\n",
      "Queue-based input pipelines have been replaced by `tf.data`. Use `tf.data.Dataset.batch(batch_size)` (or `padded_batch(...)` if `dynamic_pad=True`).\n"
     ]
    }
   ],
   "source": [
    "batch_size = 64\n",
    "train_imgs, train_labels, val_imgs, val_labels = cifar10_input.load_data(image_size=96, batch_size=batch_size)"
   ]
  },
  {
   "cell_type": "markdown",
   "metadata": {},
   "source": [
    "### 构建基本卷积单元"
   ]
  },
  {
   "cell_type": "code",
   "execution_count": 3,
   "metadata": {
    "collapsed": true
   },
   "outputs": [],
   "source": [
    "import tensorflow.contrib.slim as slim"
   ]
  },
  {
   "cell_type": "code",
   "execution_count": 4,
   "metadata": {
    "collapsed": true
   },
   "outputs": [],
   "source": [
    "def bn_relu_conv(x, out_depth, scope='dense_basic_conv', reuse=None):\n",
    "    with tf.variable_scope(scope):\n",
    "        net = slim.batch_norm(x, activation_fn=None, scope='bn')\n",
    "        net = tf.nn.relu(net, name='activation')\n",
    "        net = slim.conv2d(inputs=net, num_outputs=out_depth, kernel_size=3,\n",
    "                          activation_fn=None, normalizer_fn=None, \n",
    "                          biases_initializer=None, scope='conv')\n",
    "        return net"
   ]
  },
  {
   "cell_type": "markdown",
   "metadata": {},
   "source": [
    "### 构建DenseNet基本单元"
   ]
  },
  {
   "cell_type": "code",
   "execution_count": 5,
   "metadata": {
    "collapsed": true
   },
   "outputs": [],
   "source": [
    "def dense_block(x, growth_rate, num_layers, scope='dense_block', reuse=None):\n",
    "    with tf.variable_scope(scope):\n",
    "        net = x\n",
    "        for i in range(num_layers):\n",
    "            # 将前面所有的输出连接到一起作为下一个基本卷积单元的输入\n",
    "            out = bn_relu_conv(net, growth_rate, scope='block%d'%i)\n",
    "            net = tf.concat([net, out], axis=-1)\n",
    "        return net"
   ]
  },
  {
   "cell_type": "markdown",
   "metadata": {},
   "source": [
    "### 构建transition层"
   ]
  },
  {
   "cell_type": "code",
   "execution_count": 6,
   "metadata": {
    "collapsed": true
   },
   "outputs": [],
   "source": [
    "def transition(x, out_depth, scope='transition', reuse=None):\n",
    "    in_depth = x.get_shape().as_list()[-1]\n",
    "    \n",
    "    with tf.variable_scope(scope):\n",
    "        net = slim.batch_norm(x, activation_fn=None, scope='bn')\n",
    "        net = tf.nn.relu(net, name='activation')\n",
    "        net = slim.conv2d(net, out_depth, 1, activation_fn=None, \n",
    "                          normalizer_fn=None, biases_initializer=None, scope='conv')\n",
    "        return net"
   ]
  },
  {
   "cell_type": "markdown",
   "metadata": {},
   "source": [
    "### 构建DenseNet整体结构"
   ]
  },
  {
   "cell_type": "code",
   "execution_count": 7,
   "metadata": {
    "collapsed": true
   },
   "outputs": [],
   "source": [
    "def DenseNet(x, num_classes, growth_rate=32, block_layers=[6, 12, 24, 16], is_training=None, scope='DenseNet', reuse=None, verbose=False):\n",
    "    with tf.variable_scope(scope, reuse=reuse):\n",
    "        with slim.arg_scope([slim.batch_norm], is_training=is_training):\n",
    "            \n",
    "            if verbose:\n",
    "                print('input {}'.format(x.shape))\n",
    "            \n",
    "            with tf.variable_scope('block0'):\n",
    "                net = slim.conv2d(x, 64, [7, 7], stride=2, \n",
    "                                  normalizer_fn=None, activation_fn=None, scope='conv7_7')\n",
    "                net = slim.batch_norm(net, activation_fn=None, scope='bn')\n",
    "                net = tf.nn.relu(net, name='activation')\n",
    "                net = slim.max_pool2d(net, [3, 3], stride=2, scope='max_pool')\n",
    "                \n",
    "                if verbose:\n",
    "                    print('block0: {}'.format(net.shape))\n",
    "                \n",
    "            # 循环创建`dense_block`和`transition`\n",
    "            for i, num_layers in enumerate(block_layers):\n",
    "                with tf.variable_scope('block%d' % (i + 1)):\n",
    "                    net = dense_block(net, growth_rate, num_layers)\n",
    "                    if i != len(block_layers) - 1:\n",
    "                        current_depth = net.get_shape().as_list()[-1]\n",
    "                        net = transition(net, current_depth // 2)\n",
    "\n",
    "                if verbose:\n",
    "                    print('block{}: {}'.format(i+1, net.shape))\n",
    "\n",
    "            with tf.variable_scope('block%d' % (len(block_layers) + 1)):\n",
    "                net = slim.batch_norm(net, activation_fn=None, scope='bn')\n",
    "                net = tf.nn.relu(net, name='activation')\n",
    "                net = tf.reduce_mean(net, [1, 2], name='global_pool', keep_dims=True)\n",
    "\n",
    "                if verbose:\n",
    "                    print('block{}: {}'.format(len(block_layers) + 1, net.shape))\n",
    "\n",
    "            with tf.variable_scope('classification'):\n",
    "                net = slim.flatten(net, scope='flatten')\n",
    "                net = slim.fully_connected(net, num_classes, activation_fn=None, normalizer_fn=None, scope='logit')\n",
    "\n",
    "                if verbose:\n",
    "                    print('classification: {}'.format(net.shape))\n",
    "\n",
    "                return net"
   ]
  },
  {
   "cell_type": "code",
   "execution_count": 8,
   "metadata": {
    "collapsed": true
   },
   "outputs": [],
   "source": [
    "with slim.arg_scope([slim.conv2d], activation_fn=tf.nn.relu, normalizer_fn=slim.batch_norm) as sc:\n",
    "    conv_scope = sc"
   ]
  },
  {
   "cell_type": "code",
   "execution_count": 9,
   "metadata": {},
   "outputs": [
    {
     "name": "stdout",
     "output_type": "stream",
     "text": [
      "input (64, 96, 96, 3)\n",
      "block0: (64, 23, 23, 64)\n",
      "block1: (64, 23, 23, 128)\n",
      "block2: (64, 23, 23, 256)\n",
      "block3: (64, 23, 23, 512)\n",
      "block4: (64, 23, 23, 1024)\n",
      "WARNING:tensorflow:From <ipython-input-7-f57cbd235d55>:32: calling reduce_mean (from tensorflow.python.ops.math_ops) with keep_dims is deprecated and will be removed in a future version.\n",
      "Instructions for updating:\n",
      "keep_dims is deprecated, use keepdims instead\n",
      "block5: (64, 1, 1, 1024)\n",
      "classification: (64, 10)\n"
     ]
    }
   ],
   "source": [
    "is_training = tf.placeholder(tf.bool, name='is_training')\n",
    "\n",
    "with slim.arg_scope(conv_scope):\n",
    "    train_out = DenseNet(train_imgs, 10, is_training=is_training, verbose=True)\n",
    "    val_out = DenseNet(val_imgs, 10, is_training=is_training, reuse=True)"
   ]
  },
  {
   "cell_type": "code",
   "execution_count": 10,
   "metadata": {
    "collapsed": true
   },
   "outputs": [],
   "source": [
    "with tf.variable_scope('loss'):\n",
    "    train_loss = tf.losses.sparse_softmax_cross_entropy(labels=train_labels, logits=train_out, scope='train')\n",
    "    val_loss = tf.losses.sparse_softmax_cross_entropy(labels=val_labels, logits=val_out, scope='val')"
   ]
  },
  {
   "cell_type": "code",
   "execution_count": 11,
   "metadata": {
    "collapsed": true
   },
   "outputs": [],
   "source": [
    "with tf.name_scope('accuracy'):\n",
    "    with tf.name_scope('train'):\n",
    "        train_acc = tf.reduce_mean(tf.cast(tf.equal(tf.argmax(train_out, axis=-1, output_type=tf.int32), train_labels), tf.float32))\n",
    "    with tf.name_scope('val'):\n",
    "        val_acc = tf.reduce_mean(tf.cast(tf.equal(tf.argmax(val_out, axis=-1, output_type=tf.int32), val_labels), tf.float32))"
   ]
  },
  {
   "cell_type": "code",
   "execution_count": 12,
   "metadata": {
    "collapsed": true
   },
   "outputs": [],
   "source": [
    "lr = 0.01\n",
    "\n",
    "opt = tf.train.MomentumOptimizer(lr, momentum=0.9)"
   ]
  },
  {
   "cell_type": "code",
   "execution_count": null,
   "metadata": {
    "collapsed": true
   },
   "outputs": [],
   "source": [
    "update_ops = tf.get_collection(tf.GraphKeys.UPDATE_OPS)\n",
    "with tf.control_dependencies(update_ops):\n",
    "    train_op = opt.minimize(train_loss)"
   ]
  },
  {
   "cell_type": "markdown",
   "metadata": {},
   "source": [
    "### 开始训练"
   ]
  },
  {
   "cell_type": "code",
   "execution_count": null,
   "metadata": {},
   "outputs": [
    {
     "name": "stdout",
     "output_type": "stream",
     "text": [
      "WARNING:tensorflow:From E:\\project\\jupyter\\天池 深度学习理论与实战\\第四章 卷积神经网络\\utils\\learning.py:126: start_queue_runners (from tensorflow.python.training.queue_runner_impl) is deprecated and will be removed in a future version.\n",
      "Instructions for updating:\n",
      "To construct input pipelines, use the `tf.data` module.\n"
     ]
    }
   ],
   "source": [
    "from utils.learning import train_with_bn\n",
    "train_with_bn(train_op, train_loss, train_acc, val_loss, val_acc, 20000, is_training)\n"
   ]
  },
  {
   "cell_type": "code",
   "execution_count": null,
   "metadata": {
    "collapsed": true
   },
   "outputs": [],
   "source": []
  }
 ],
 "metadata": {
  "kernelspec": {
   "display_name": "tensorflow-gpu",
   "language": "python",
   "name": "tensorflow-gpu"
  },
  "language_info": {
   "codemirror_mode": {
    "name": "ipython",
    "version": 3
   },
   "file_extension": ".py",
   "mimetype": "text/x-python",
   "name": "python",
   "nbconvert_exporter": "python",
   "pygments_lexer": "ipython3",
   "version": "3.6.2"
  }
 },
 "nbformat": 4,
 "nbformat_minor": 2
}
