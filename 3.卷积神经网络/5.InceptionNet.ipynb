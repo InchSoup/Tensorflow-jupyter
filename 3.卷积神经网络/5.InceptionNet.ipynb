{
 "cells": [
  {
   "cell_type": "markdown",
   "metadata": {},
   "source": [
    "# InceptionNet\n",
    "InceptionNet是 2014 年 ImageNet 比赛的冠军，这是 Google 的研究人员提出的网络结构(所以也叫做`GoogLeNet`)，在当时取得了非常大的影响，因为网络的结构变得前所未有，它颠覆了大家对卷积网络的串联的印象和固定做法，采用了一种非常有效的 inception 模块，得到了比 VGG 更深的网络结构，但是却比 VGG 的参数更少，因为其去掉了后面的全连接层，所以参数大大减少，同时有了很高的计算效率。"
   ]
  },
  {
   "cell_type": "markdown",
   "metadata": {},
   "source": [
    "## Inception 模块\n",
    "\n",
    "<img src='img/inception.png'>\n",
    "\n",
    "在上面的网络中，我们看到了多个四个并行卷积的层，这些四个卷积并行的层就是 inception 模块\n",
    "\n",
    "一个 inception 模块的四个并行线路如下：\n",
    "- 1.一个 1 x 1 的卷积，一个小的感受野进行卷积提取特征\n",
    "- 2.一个 1 x 1 的卷积加上一个 3 x 3 的卷积，1 x 1 的卷积降低输入的特征通道，减少参数计算量，然后接一个 3 x 3 的卷积做一个较大感受野的卷积\n",
    "- 3.一个 1 x 1 的卷积加上一个 5 x 5 的卷积，作用和第二个一样\n",
    "- 4.一个 3 x 3 的最大池化加上 1 x 1 的卷积，最大池化改变输入的特征排列，1 x 1 的卷积进行特征提取\n",
    "\n",
    "最后将四个并行线路得到的特征在通道这个维度上拼接在一起，下面我们可以实现一下"
   ]
  },
  {
   "cell_type": "code",
   "execution_count": 1,
   "metadata": {
    "collapsed": true
   },
   "outputs": [],
   "source": [
    "import tensorflow as tf\n",
    "from utils import cifar10_input"
   ]
  },
  {
   "cell_type": "code",
   "execution_count": 2,
   "metadata": {},
   "outputs": [
    {
     "name": "stdout",
     "output_type": "stream",
     "text": [
      "WARNING:tensorflow:From E:\\project\\jupyter\\天池 深度学习理论与实战\\第四章 卷积神经网络\\utils\\cifar10_input.py:233: string_input_producer (from tensorflow.python.training.input) is deprecated and will be removed in a future version.\n",
      "Instructions for updating:\n",
      "Queue-based input pipelines have been replaced by `tf.data`. Use `tf.data.Dataset.from_tensor_slices(string_tensor).shuffle(tf.shape(input_tensor, out_type=tf.int64)[0]).repeat(num_epochs)`. If `shuffle=False`, omit the `.shuffle(...)`.\n",
      "WARNING:tensorflow:From E:\\software\\Anaconda3\\envs\\tensorflow-gpu\\lib\\site-packages\\tensorflow\\python\\training\\input.py:276: input_producer (from tensorflow.python.training.input) is deprecated and will be removed in a future version.\n",
      "Instructions for updating:\n",
      "Queue-based input pipelines have been replaced by `tf.data`. Use `tf.data.Dataset.from_tensor_slices(input_tensor).shuffle(tf.shape(input_tensor, out_type=tf.int64)[0]).repeat(num_epochs)`. If `shuffle=False`, omit the `.shuffle(...)`.\n",
      "WARNING:tensorflow:From E:\\software\\Anaconda3\\envs\\tensorflow-gpu\\lib\\site-packages\\tensorflow\\python\\training\\input.py:188: limit_epochs (from tensorflow.python.training.input) is deprecated and will be removed in a future version.\n",
      "Instructions for updating:\n",
      "Queue-based input pipelines have been replaced by `tf.data`. Use `tf.data.Dataset.from_tensors(tensor).repeat(num_epochs)`.\n",
      "WARNING:tensorflow:From E:\\software\\Anaconda3\\envs\\tensorflow-gpu\\lib\\site-packages\\tensorflow\\python\\training\\input.py:197: QueueRunner.__init__ (from tensorflow.python.training.queue_runner_impl) is deprecated and will be removed in a future version.\n",
      "Instructions for updating:\n",
      "To construct input pipelines, use the `tf.data` module.\n",
      "WARNING:tensorflow:From E:\\software\\Anaconda3\\envs\\tensorflow-gpu\\lib\\site-packages\\tensorflow\\python\\training\\input.py:197: add_queue_runner (from tensorflow.python.training.queue_runner_impl) is deprecated and will be removed in a future version.\n",
      "Instructions for updating:\n",
      "To construct input pipelines, use the `tf.data` module.\n",
      "WARNING:tensorflow:From E:\\project\\jupyter\\天池 深度学习理论与实战\\第四章 卷积神经网络\\utils\\cifar10_input.py:82: FixedLengthRecordReader.__init__ (from tensorflow.python.ops.io_ops) is deprecated and will be removed in a future version.\n",
      "Instructions for updating:\n",
      "Queue-based input pipelines have been replaced by `tf.data`. Use `tf.data.FixedLengthRecordDataset`.\n",
      "WARNING:tensorflow:From E:\\project\\jupyter\\天池 深度学习理论与实战\\第四章 卷积神经网络\\utils\\cifar10_input.py:129: shuffle_batch (from tensorflow.python.training.input) is deprecated and will be removed in a future version.\n",
      "Instructions for updating:\n",
      "Queue-based input pipelines have been replaced by `tf.data`. Use `tf.data.Dataset.shuffle(min_after_dequeue).batch(batch_size)`.\n",
      "WARNING:tensorflow:From E:\\project\\jupyter\\天池 深度学习理论与实战\\第四章 卷积神经网络\\utils\\cifar10_input.py:135: batch (from tensorflow.python.training.input) is deprecated and will be removed in a future version.\n",
      "Instructions for updating:\n",
      "Queue-based input pipelines have been replaced by `tf.data`. Use `tf.data.Dataset.batch(batch_size)` (or `padded_batch(...)` if `dynamic_pad=True`).\n"
     ]
    }
   ],
   "source": [
    "batch_size = 64\n",
    "train_imgs, train_labels, val_imgs, val_labels=cifar10_input.load_data(batch_size=batch_size)"
   ]
  },
  {
   "cell_type": "code",
   "execution_count": 3,
   "metadata": {
    "collapsed": true
   },
   "outputs": [],
   "source": [
    "import tensorflow.contrib.slim as slim"
   ]
  },
  {
   "cell_type": "code",
   "execution_count": 4,
   "metadata": {
    "collapsed": true
   },
   "outputs": [],
   "source": [
    "def inception(x, d0_1, d1_1, d1_3, d2_1, d2_5, d3_1, scope='inception', reuse=None):\n",
    "    '''\n",
    "    定义inception基本结构\n",
    "    arg:\n",
    "        x:输入\n",
    "        d(n)_i:第n条支路上的卷积的深度，其中i表示卷积核大小\n",
    "        scope:变量域\n",
    "        reuse:是否重用\n",
    "    return:\n",
    "        net:输出\n",
    "    '''\n",
    "    with tf.variable_scope(scope, reuse=reuse):\n",
    "        with slim.arg_scope([slim.conv2d, slim.max_pool2d], stride=1, padding='SAME'):\n",
    "            with tf.variable_scope('branch0'):\n",
    "                branch_0 = slim.conv2d(x, d0_1, [1, 1], scope='conv1_1')\n",
    "            with tf.variable_scope('branch1'):\n",
    "                branch_1 = slim.conv2d(x, d1_1, [1, 1], scope='conv1_1')\n",
    "                branch_1 = slim.conv2d(branch_1, d1_3, [3, 3], scope='conv3_3')\n",
    "            with tf.variable_scope('branch2'):\n",
    "                branch_2 = slim.conv2d(x, d2_1, [1, 1], scope='conv1_1')\n",
    "                branch_2 = slim.conv2d(branch_2, d2_5, [5, 5], scope='conv5_5')            \n",
    "            with tf.variable_scope('branch3'):\n",
    "                branch_3 = slim.max_pool2d(x, [3, 3], scope='max_pool')\n",
    "                branch_3 = slim.conv2d(branch_3, d3_1, [1, 1], scope='conv1_1')    \n",
    "            # 连接\n",
    "            net = tf.concat([branch_0, branch_1, branch_2, branch_3], axis=-1)\n",
    "        return net"
   ]
  },
  {
   "cell_type": "code",
   "execution_count": 5,
   "metadata": {
    "collapsed": true
   },
   "outputs": [],
   "source": [
    "def googlenet(inputs, num_classes, reuse=None, is_training=None, verbose=False):\n",
    "    with tf.variable_scope('googlenet', reuse=reuse):\n",
    "        # 给`batch_norm`的`is_training`参数设定默认值.\n",
    "        # `batch_norm`和`is_training`密切相关, 当`is_trainig=True`时,\n",
    "        # 它使用的是一个`batch`数据的移动平均,方差值\n",
    "        # 当`is_training=True`时, 它使用的是固定值\n",
    "        with slim.arg_scope([slim.batch_norm], is_training=is_training):\n",
    "            with slim.arg_scope([slim.conv2d, slim.max_pool2d, slim.avg_pool2d],\n",
    "                                padding='SAME', stride=1):\n",
    "                net = inputs\n",
    "                with tf.variable_scope('block1'):\n",
    "                    net = slim.conv2d(net, 64, [5, 5], scope='conv5_5')\n",
    "                    \n",
    "                    if verbose:\n",
    "                        print('block1 output:{}'.format(net.shape))\n",
    "                        \n",
    "                with tf.variable_scope('block2'):\n",
    "                    net = slim.conv2d(net, 64, [1, 1], scope='conv1_1')\n",
    "                    net = slim.conv2d(net, 192, [3, 3], scope='conv3_3')\n",
    "                    net = slim.max_pool2d(net, [3, 3], stride=2, scope='max_pool')\n",
    "                    \n",
    "                    if verbose:\n",
    "                        print('block2 output:{}'.format(net.shape))\n",
    "                \n",
    "                with tf.variable_scope('block3'):\n",
    "                    net = inception(net, 64, 96, 128, 16, 32, 32, scope='inception_1')\n",
    "                    net = inception(net, 128, 128, 192, 32, 96, 64, scope='inception_2')\n",
    "                    net = slim.max_pool2d(net, [3, 3], stride=2, scope='max_pool')\n",
    "                    \n",
    "                    if verbose:\n",
    "                        print('block3 output:{}'.format(net.shape))\n",
    "                \n",
    "                with tf.variable_scope('block4'):\n",
    "                    net = inception(net, 192, 96, 208, 16, 48, 64, scope='inception_1')\n",
    "                    net = inception(net, 160, 112, 224, 24, 64, 64, scope='inception_2')\n",
    "                    net = inception(net, 128, 128, 256, 24, 64, 64, scope='inception_3')\n",
    "                    net = inception(net, 112, 144, 288, 24, 64, 64, scope='inception_4')\n",
    "                    net = inception(net, 256, 160, 320, 32, 128, 128, scope='inception_5')\n",
    "                    net = slim.max_pool2d(net, [3, 3], stride=2, scope='max_pool')\n",
    "                    \n",
    "                    if verbose:\n",
    "                        print('block4 output:{}'.format(net.shape))\n",
    "                \n",
    "                with tf.variable_scope('block5'):\n",
    "                    net = inception(net, 256, 160, 320, 32, 128, 128, scope='inception_1')\n",
    "                    net = inception(net, 384, 182, 384, 48, 128, 128, scope='inception_2')\n",
    "                    net = slim.avg_pool2d(net, [2, 2], stride=2, scope='avg_pool')\n",
    "                    \n",
    "                    if verbose:\n",
    "                        print('block5 output:{}'.format(net.shape))\n",
    "                \n",
    "                with tf.variable_scope('classification'):\n",
    "                    net = slim.flatten(net)\n",
    "                    net = slim.fully_connected(net, num_classes, activation_fn=None, \n",
    "                                               normalizer_fn=None, scope='logit')\n",
    "                    \n",
    "                    if verbose:\n",
    "                        print('classification output:{}'.format(net.shape))\n",
    "                \n",
    "                return net\n",
    "                                       "
   ]
  },
  {
   "cell_type": "code",
   "execution_count": 6,
   "metadata": {
    "collapsed": true
   },
   "outputs": [],
   "source": [
    "with slim.arg_scope([slim.conv2d], activation_fn=tf.nn.relu, normalizer_fn=slim.batch_norm) as sc:\n",
    "    conv_scope=sc"
   ]
  },
  {
   "cell_type": "code",
   "execution_count": 7,
   "metadata": {
    "collapsed": true
   },
   "outputs": [],
   "source": [
    "is_training = tf.placeholder(tf.bool, name='is_training')"
   ]
  },
  {
   "cell_type": "code",
   "execution_count": 8,
   "metadata": {},
   "outputs": [
    {
     "name": "stdout",
     "output_type": "stream",
     "text": [
      "block1 output:(64, 32, 32, 64)\n",
      "block2 output:(64, 16, 16, 192)\n",
      "block3 output:(64, 8, 8, 480)\n",
      "block4 output:(64, 4, 4, 832)\n",
      "block5 output:(64, 2, 2, 1024)\n",
      "classification output:(64, 10)\n"
     ]
    }
   ],
   "source": [
    "with slim.arg_scope(conv_scope):\n",
    "    train_out = googlenet(train_imgs, 10, is_training=is_training, verbose=True)\n",
    "    val_out = googlenet(val_imgs, 10, is_training=is_training, reuse=True)"
   ]
  },
  {
   "cell_type": "code",
   "execution_count": 9,
   "metadata": {
    "collapsed": true
   },
   "outputs": [],
   "source": [
    "with tf.variable_scope('loss'):\n",
    "    train_loss = tf.losses.sparse_softmax_cross_entropy(labels=train_labels, logits=train_out, scope='train')\n",
    "    val_loss = tf.losses.sparse_softmax_cross_entropy(labels=val_labels, logits=val_out, scope='val')"
   ]
  },
  {
   "cell_type": "code",
   "execution_count": 10,
   "metadata": {},
   "outputs": [],
   "source": [
    "with tf.variable_scope('accuracy'):\n",
    "    with tf.name_scope('train'):\n",
    "        train_acc = tf.reduce_mean(tf.cast(tf.equal(tf.argmax(train_out, axis=-1, output_type=tf.int32),\n",
    "                                                    train_labels), tf.float32))\n",
    "    with tf.name_scope('val'):\n",
    "        val_acc = tf.reduce_mean(tf.cast(tf.equal(tf.argmax(val_out, axis=-1, output_type=tf.int32),\n",
    "                                                  val_labels), tf.float32))"
   ]
  },
  {
   "cell_type": "code",
   "execution_count": 11,
   "metadata": {},
   "outputs": [],
   "source": [
    "lr = 0.01\n",
    "optimizer = tf.train.MomentumOptimizer(lr, momentum=0.9)"
   ]
  },
  {
   "cell_type": "markdown",
   "metadata": {},
   "source": [
    "在定义训练的时候, 注意到我们使用了batch_norm层时,需要更新每一层的average和variance参数, 更新的过程不包含在正常的训练过程中, 需要我们去手动像下面这样更新"
   ]
  },
  {
   "cell_type": "code",
   "execution_count": null,
   "metadata": {
    "collapsed": true
   },
   "outputs": [],
   "source": [
    "# 通过`tf.get_collection`获得所有需要更新的`op\n",
    "update_ops = tf.get_collection(tf.GraphKeys.UPDATE_OPS)\n",
    "\n",
    "# 使用`tensorflow`的控制流, 先执行更新算子, 再执行训练\n",
    "with tf.control_dependencies(update_ops):\n",
    "    train_op = optimizer.minimize(train_loss)"
   ]
  },
  {
   "cell_type": "code",
   "execution_count": null,
   "metadata": {},
   "outputs": [
    {
     "name": "stdout",
     "output_type": "stream",
     "text": [
      "WARNING:tensorflow:From E:\\project\\jupyter\\天池 深度学习理论与实战\\第四章 卷积神经网络\\utils\\learning.py:126: start_queue_runners (from tensorflow.python.training.queue_runner_impl) is deprecated and will be removed in a future version.\n",
      "Instructions for updating:\n",
      "To construct input pipelines, use the `tf.data` module.\n",
      "[train]: step 0 loss = 2.3054 acc = 0.0781 (0.0330 / batch)\n",
      "[val]: step 0 loss = 2.3026 acc = 0.0625\n",
      "[train]: step 1000 loss = 1.0762 acc = 0.6250 (0.8022 / batch)\n"
     ]
    }
   ],
   "source": [
    "from utils.learning import train_with_bn\n",
    "train_with_bn(train_op, train_loss, train_acc, val_loss, val_acc, 20000, is_training)"
   ]
  },
  {
   "cell_type": "code",
   "execution_count": null,
   "metadata": {
    "collapsed": true
   },
   "outputs": [],
   "source": []
  },
  {
   "cell_type": "code",
   "execution_count": null,
   "metadata": {
    "collapsed": true
   },
   "outputs": [],
   "source": []
  },
  {
   "cell_type": "code",
   "execution_count": null,
   "metadata": {
    "collapsed": true
   },
   "outputs": [],
   "source": []
  }
 ],
 "metadata": {
  "kernelspec": {
   "display_name": "tensorflow-gpu",
   "language": "python",
   "name": "tensorflow-gpu"
  },
  "language_info": {
   "codemirror_mode": {
    "name": "ipython",
    "version": 3
   },
   "file_extension": ".py",
   "mimetype": "text/x-python",
   "name": "python",
   "nbconvert_exporter": "python",
   "pygments_lexer": "ipython3",
   "version": "3.6.2"
  }
 },
 "nbformat": 4,
 "nbformat_minor": 2
}
