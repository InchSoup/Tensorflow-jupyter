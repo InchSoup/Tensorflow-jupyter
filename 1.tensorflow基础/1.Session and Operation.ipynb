{
 "cells": [
  {
   "cell_type": "markdown",
   "metadata": {},
   "source": [
    "# Tensorflow\n",
    "tensor是张量的意思,顾名思义,是一个能够存储多维数组的tensorflow数据结构,它的元素可以是int类型,float类型,bool类型,还有string类型等等"
   ]
  },
  {
   "cell_type": "code",
   "execution_count": 1,
   "metadata": {
    "collapsed": true
   },
   "outputs": [],
   "source": [
    "import tensorflow as tf"
   ]
  },
  {
   "cell_type": "code",
   "execution_count": 2,
   "metadata": {},
   "outputs": [
    {
     "name": "stdout",
     "output_type": "stream",
     "text": [
      "42\n"
     ]
    }
   ],
   "source": [
    "a = tf.constant(32)\n",
    "b = tf.constant(10)\n",
    "c = tf.add(a,b)\n",
    "\n",
    "sess = tf.Session()\n",
    "print(sess.run(c))\n",
    "sess.close()"
   ]
  },
  {
   "cell_type": "markdown",
   "metadata": {},
   "source": [
    "在tensorflow下, 所有的tensor都是一种符号, 用来构建整个Graph的, 它是什么值并不重要, 所以就无法在构建图之后进行打印看它的值了"
   ]
  },
  {
   "cell_type": "code",
   "execution_count": 3,
   "metadata": {},
   "outputs": [
    {
     "name": "stdout",
     "output_type": "stream",
     "text": [
      "Tensor(\"Const:0\", shape=(), dtype=int32)\n",
      "Tensor(\"Const_1:0\", shape=(), dtype=int32)\n",
      "Tensor(\"Add:0\", shape=(), dtype=int32)\n"
     ]
    }
   ],
   "source": [
    "print(a)\n",
    "print(b)\n",
    "print(c)"
   ]
  },
  {
   "cell_type": "markdown",
   "metadata": {},
   "source": [
    "### 1.会话(Session)"
   ]
  },
  {
   "cell_type": "code",
   "execution_count": 4,
   "metadata": {},
   "outputs": [
    {
     "name": "stdout",
     "output_type": "stream",
     "text": [
      "32\n",
      "[32, 10]\n",
      "[32, 10, 42]\n"
     ]
    }
   ],
   "source": [
    "sess = tf.Session()\n",
    "print(sess.run(a))\n",
    "print(sess.run([a, b]))\n",
    "print(sess.run([a, b, c]))"
   ]
  },
  {
   "cell_type": "markdown",
   "metadata": {},
   "source": [
    "我们可以将执行图的结果保存到正常的变量中, tensorflow称这个过程为fetch. "
   ]
  },
  {
   "cell_type": "code",
   "execution_count": 5,
   "metadata": {},
   "outputs": [
    {
     "name": "stdout",
     "output_type": "stream",
     "text": [
      "<class 'numpy.int32'>\n",
      "32\n"
     ]
    }
   ],
   "source": [
    "py_a = sess.run(a)\n",
    "print(type(py_a))\n",
    "print(py_a)"
   ]
  },
  {
   "cell_type": "markdown",
   "metadata": {},
   "source": [
    "### 2.Tensors\n",
    "tensor可以有很多形式"
   ]
  },
  {
   "cell_type": "code",
   "execution_count": 6,
   "metadata": {},
   "outputs": [
    {
     "name": "stdout",
     "output_type": "stream",
     "text": [
      "b'hello, tensorflow!'\n",
      "b'true'\n",
      "[1 2]\n",
      "[3. 4.]\n"
     ]
    }
   ],
   "source": [
    "hello = tf.constant('hello, tensorflow!')\n",
    "boolean = tf.constant('true')\n",
    "int_array = tf.constant([1,2],dtype=tf.int32)\n",
    "float_array = tf.constant([3,4],dtype=tf.float32)\n",
    "\n",
    "print(sess.run(hello))\n",
    "print(sess.run(boolean))\n",
    "print(sess.run(int_array))\n",
    "print(sess.run(float_array))\n"
   ]
  },
  {
   "cell_type": "markdown",
   "metadata": {},
   "source": [
    "tensor还可以有名字, 在定义每个tensor的时候添加参数name的值就可以.这是一个可选参数"
   ]
  },
  {
   "cell_type": "code",
   "execution_count": 7,
   "metadata": {},
   "outputs": [
    {
     "name": "stdout",
     "output_type": "stream",
     "text": [
      "tensor Hello:0: b'Hello'\n",
      "tensor World:0: b'World'\n"
     ]
    }
   ],
   "source": [
    "my_name_is_hello = tf.constant('Hello', name='Hello')\n",
    "my_name_is_world = tf.constant('World', name='World')\n",
    "print('tensor {}: {}'.format(my_name_is_hello.name, sess.run(my_name_is_hello)))\n",
    "print('tensor {}: {}'.format(my_name_is_world.name, sess.run(my_name_is_world)))"
   ]
  },
  {
   "cell_type": "markdown",
   "metadata": {},
   "source": [
    "### 3.Operations\n",
    "tensorflow原生支持很多的operation, 以后我们将用op来简称operation. 注意, op也可以有名字用来标识"
   ]
  },
  {
   "cell_type": "code",
   "execution_count": 8,
   "metadata": {},
   "outputs": [
    {
     "name": "stdout",
     "output_type": "stream",
     "text": [
      "a:32\n",
      "b:10\n",
      "52\n",
      "22\n",
      "320\n",
      "3.2\n",
      "2\n"
     ]
    }
   ],
   "source": [
    "d = tf.add_n([a,b,b])\n",
    "e = tf.subtract(a,b)\n",
    "f = tf.multiply(a,b)\n",
    "g = tf.divide(a,b)\n",
    "h = tf.mod(a,b)\n",
    "\n",
    "print('a:{}'.format(sess.run(a)))\n",
    "print('b:{}'.format(sess.run(b)))\n",
    "print(sess.run(d))\n",
    "print(sess.run(e))\n",
    "print(sess.run(f))\n",
    "print(sess.run(g))\n",
    "print(sess.run(h))"
   ]
  },
  {
   "cell_type": "markdown",
   "metadata": {},
   "source": [
    "类型转换以及其他运算"
   ]
  },
  {
   "cell_type": "code",
   "execution_count": 9,
   "metadata": {},
   "outputs": [
    {
     "name": "stdout",
     "output_type": "stream",
     "text": [
      "<class 'numpy.int32'>\n",
      "<class 'numpy.float32'>\n"
     ]
    }
   ],
   "source": [
    "print(type(sess.run(a)))\n",
    "a_float = tf.cast(a,dtype=tf.float32)\n",
    "print(type(sess.run(a_float)))"
   ]
  },
  {
   "cell_type": "code",
   "execution_count": 10,
   "metadata": {},
   "outputs": [
    {
     "name": "stdout",
     "output_type": "stream",
     "text": [
      "0.5514267\n",
      "1.0317434\n",
      "-0.043819606\n"
     ]
    }
   ],
   "source": [
    "i = tf.sin(a_float)\n",
    "j = tf.exp(tf.divide(1.0, a_float))\n",
    "k = tf.add(i, tf.log(i))\n",
    "\n",
    "print(sess.run(i))\n",
    "print(sess.run(j))\n",
    "print(sess.run(k))\n"
   ]
  },
  {
   "cell_type": "markdown",
   "metadata": {},
   "source": [
    "#### 矩阵运算"
   ]
  },
  {
   "cell_type": "code",
   "execution_count": 11,
   "metadata": {},
   "outputs": [
    {
     "name": "stdout",
     "output_type": "stream",
     "text": [
      "[[1 2]\n",
      " [3 4]]\n",
      "[[ 1  3  5]\n",
      " [ 7  9 11]]\n"
     ]
    }
   ],
   "source": [
    "\n",
    "mat_a = tf.constant([1,2,3,4])\n",
    "mat_b = tf.constant([1,3,5,7,9,11])\n",
    "\n",
    "mat_a = tf.reshape(mat_a, (2,2))\n",
    "mat_b = tf.reshape(mat_b, (2,3))\n",
    "\n",
    "print(sess.run(mat_a))\n",
    "print(sess.run(mat_b))"
   ]
  },
  {
   "cell_type": "code",
   "execution_count": 12,
   "metadata": {},
   "outputs": [
    {
     "name": "stdout",
     "output_type": "stream",
     "text": [
      "[[15 21 27]\n",
      " [31 45 59]]\n",
      "[[1 4]\n",
      " [3 8]]\n"
     ]
    }
   ],
   "source": [
    "vec_a = tf.constant([1,2])\n",
    "mat_c = tf.matmul(mat_a,mat_b)\n",
    "mat_d = tf.multiply(mat_a,vec_a)\n",
    "print(sess.run(mat_c))\n",
    "print(sess.run(mat_d))"
   ]
  },
  {
   "cell_type": "markdown",
   "metadata": {},
   "source": [
    "#### numpy_like tensors\n",
    "tensorflow采用了很多类似于numpy的数据定义方式"
   ]
  },
  {
   "cell_type": "code",
   "execution_count": 13,
   "metadata": {},
   "outputs": [
    {
     "ename": "NameError",
     "evalue": "name 'ones' is not defined",
     "output_type": "error",
     "traceback": [
      "\u001b[1;31m---------------------------------------------------------------------------\u001b[0m",
      "\u001b[1;31mNameError\u001b[0m                                 Traceback (most recent call last)",
      "\u001b[1;32m<ipython-input-13-967d0279cffc>\u001b[0m in \u001b[0;36m<module>\u001b[1;34m()\u001b[0m\n\u001b[0;32m      1\u001b[0m \u001b[0mzeros\u001b[0m \u001b[1;33m=\u001b[0m \u001b[0mtf\u001b[0m\u001b[1;33m.\u001b[0m\u001b[0mzeros\u001b[0m\u001b[1;33m(\u001b[0m\u001b[1;33m(\u001b[0m\u001b[1;36m2\u001b[0m\u001b[1;33m,\u001b[0m\u001b[1;36m3\u001b[0m\u001b[1;33m)\u001b[0m\u001b[1;33m,\u001b[0m\u001b[0mdtype\u001b[0m\u001b[1;33m=\u001b[0m\u001b[0mtf\u001b[0m\u001b[1;33m.\u001b[0m\u001b[0mint32\u001b[0m\u001b[1;33m)\u001b[0m\u001b[1;33m\u001b[0m\u001b[0m\n\u001b[1;32m----> 2\u001b[1;33m \u001b[0mzeros_like\u001b[0m \u001b[1;33m=\u001b[0m \u001b[0mtf\u001b[0m\u001b[1;33m.\u001b[0m\u001b[0mzeros_like\u001b[0m\u001b[1;33m(\u001b[0m\u001b[0mones\u001b[0m\u001b[1;33m)\u001b[0m\u001b[1;33m\u001b[0m\u001b[0m\n\u001b[0m\u001b[0;32m      3\u001b[0m \u001b[0mones\u001b[0m \u001b[1;33m=\u001b[0m \u001b[0mtf\u001b[0m\u001b[1;33m.\u001b[0m\u001b[0mones\u001b[0m\u001b[1;33m(\u001b[0m\u001b[1;33m(\u001b[0m\u001b[1;36m3\u001b[0m\u001b[1;33m,\u001b[0m\u001b[1;36m2\u001b[0m\u001b[1;33m)\u001b[0m\u001b[1;33m,\u001b[0m\u001b[0mdtype\u001b[0m\u001b[1;33m=\u001b[0m\u001b[0mtf\u001b[0m\u001b[1;33m.\u001b[0m\u001b[0mint32\u001b[0m\u001b[1;33m)\u001b[0m\u001b[1;33m\u001b[0m\u001b[0m\n\u001b[0;32m      4\u001b[0m \u001b[0mones_like\u001b[0m \u001b[1;33m=\u001b[0m \u001b[0mtf\u001b[0m\u001b[1;33m.\u001b[0m\u001b[0mones_like\u001b[0m\u001b[1;33m(\u001b[0m\u001b[0mzeros\u001b[0m\u001b[1;33m)\u001b[0m\u001b[1;33m\u001b[0m\u001b[0m\n\u001b[0;32m      5\u001b[0m \u001b[1;33m\u001b[0m\u001b[0m\n",
      "\u001b[1;31mNameError\u001b[0m: name 'ones' is not defined"
     ]
    }
   ],
   "source": [
    "zeros = tf.zeros((2,3),dtype=tf.int32)\n",
    "zeros_like = tf.zeros_like(ones)\n",
    "ones = tf.ones((3,2),dtype=tf.int32)\n",
    "ones_like = tf.ones_like(zeros)\n",
    "\n",
    "print('{}\\n{}\\n'.format('zeros:',sess.run(zeros)))\n",
    "print('{}\\n{}\\n'.format('ones:',sess.run(ones)))\n",
    "print('{}\\n{}\\n'.format('zeros_like:',sess.run(zeros_like)))\n",
    "print('{}\\n{}\\n'.format('ones_like:',sess.run(ones_like)))"
   ]
  },
  {
   "cell_type": "code",
   "execution_count": null,
   "metadata": {},
   "outputs": [],
   "source": [
    "fill = tf.fill((2,4),2)\n",
    "linspace = tf.linspace(1.,5.,5)\n",
    "ranger = tf.range(3,10,delta=3)\n",
    "\n",
    "print('{}:\\n{}\\n'.format('fill', sess.run(fill)))\n",
    "print('{}:\\n{}\\n'.format('linspace', sess.run(linspace)))\n",
    "print('{}:\\n{}\\n'.format('range', sess.run(ranger)))"
   ]
  },
  {
   "cell_type": "markdown",
   "metadata": {},
   "source": [
    "#### 关闭Session\n",
    "session可以打开就需要被关闭, 用下面这行命令"
   ]
  },
  {
   "cell_type": "code",
   "execution_count": null,
   "metadata": {
    "collapsed": true
   },
   "outputs": [],
   "source": [
    "sess.close()"
   ]
  },
  {
   "cell_type": "code",
   "execution_count": null,
   "metadata": {
    "collapsed": true
   },
   "outputs": [],
   "source": []
  }
 ],
 "metadata": {
  "kernelspec": {
   "display_name": "tensorflow-gpu",
   "language": "python",
   "name": "tensorflow-gpu"
  },
  "language_info": {
   "codemirror_mode": {
    "name": "ipython",
    "version": 3
   },
   "file_extension": ".py",
   "mimetype": "text/x-python",
   "name": "python",
   "nbconvert_exporter": "python",
   "pygments_lexer": "ipython3",
   "version": "3.6.2"
  }
 },
 "nbformat": 4,
 "nbformat_minor": 2
}
