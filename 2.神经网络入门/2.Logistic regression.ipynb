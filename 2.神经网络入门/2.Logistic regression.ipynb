{
 "cells": [
  {
   "cell_type": "markdown",
   "metadata": {},
   "source": [
    "# Logistic 回归"
   ]
  },
  {
   "cell_type": "code",
   "execution_count": 1,
   "metadata": {
    "collapsed": true
   },
   "outputs": [],
   "source": [
    "import tensorflow as tf\n",
    "import numpy as np\n",
    "import matplotlib.pyplot as plt\n",
    "%matplotlib inline"
   ]
  },
  {
   "cell_type": "markdown",
   "metadata": {},
   "source": [
    "首先我们从logistic_regression_data.txt中读取数据文件的每一行由三个元素构成, x坐标, y坐标, 对应label对不同label的点赋以不同的值之后可以看看数据的情况"
   ]
  },
  {
   "cell_type": "code",
   "execution_count": 2,
   "metadata": {},
   "outputs": [],
   "source": [
    "with open('data/Logistic_regression.txt') as f:\n",
    "    data_list = [i.split('\\n')[0].split(',') for i in f.readlines()]\n",
    "    data = [(float(i[0]), float(i[1]), float(i[2])) for i in data_list]"
   ]
  },
  {
   "cell_type": "code",
   "execution_count": 3,
   "metadata": {},
   "outputs": [],
   "source": [
    "# 标准化\n",
    "x0_max = max(i[0] for i in data)\n",
    "x1_max = max(i[1] for i in data)\n",
    "data = [(i[0]/x0_max, i[1]/x1_max, i[2]) for i in data]"
   ]
  },
  {
   "cell_type": "code",
   "execution_count": 4,
   "metadata": {
    "scrolled": true
   },
   "outputs": [
    {
     "data": {
      "text/plain": [
       "<matplotlib.legend.Legend at 0x1f4579993c8>"
      ]
     },
     "execution_count": 4,
     "metadata": {},
     "output_type": "execute_result"
    },
    {
     "data": {
      "image/png": "[encoded data removed]",
      "text/plain": [
       "<Figure size 432x288 with 1 Axes>"
      ]
     },
     "metadata": {},
     "output_type": "display_data"
    }
   ],
   "source": [
    "label0 = list(filter(lambda x:x[-1]==0.0, data)) #选择标签为0的点\n",
    "label1 = list(filter(lambda x:x[-1]==1.0, data)) #选择标签为1的点\n",
    "\n",
    "x0 = [i[0] for i in label0]\n",
    "y0 = [i[1] for i in label0]\n",
    "x1 = [i[0] for i in label1]\n",
    "y1 = [i[1] for i in label1]\n",
    "\n",
    "plt.plot(x0, y0, 'ro', label='label0')\n",
    "plt.plot(x1, y1, 'bo', label='label1')\n",
    "plt.legend()"
   ]
  },
  {
   "cell_type": "markdown",
   "metadata": {},
   "source": [
    "## 数据类型转换"
   ]
  },
  {
   "cell_type": "code",
   "execution_count": 5,
   "metadata": {},
   "outputs": [],
   "source": [
    "np_data = np.array(data, dtype='float32')\n",
    "x = tf.constant(np_data[:,:2], dtype=tf.float32, name='x')\n",
    "y = tf.expand_dims(tf.constant(np_data[:,2]), axis=-1)"
   ]
  },
  {
   "cell_type": "markdown",
   "metadata": {},
   "source": [
    "在之前的练习中, 我们实现了tensorflow下的Sigmoid函数. 实际上我们可以采用\"偷懒\"的方法--使用tensorflow自带的tf.sigmoid()函数. tensorflow集成了很多这样基本但非常有用的函数, 感兴趣的话可以去 API 手册进行查阅"
   ]
  },
  {
   "cell_type": "code",
   "execution_count": 6,
   "metadata": {
    "collapsed": true
   },
   "outputs": [],
   "source": [
    "w = tf.Variable(tf.random_normal((2,1), seed=2017), \n",
    "                dtype=tf.float32, name='weight')\n",
    "b = tf.Variable(0.0, dtype=tf.float32, name='bias')"
   ]
  },
  {
   "cell_type": "markdown",
   "metadata": {},
   "source": [
    "<img src='img/logistic.png'>"
   ]
  },
  {
   "cell_type": "code",
   "execution_count": 7,
   "metadata": {},
   "outputs": [],
   "source": [
    "# 使用 tf.sigmoid 将结果映射到 [0, 1] 区间\n",
    "def logistic_regression(x):\n",
    "    return tf.sigmoid(tf.matmul(x,w)+b) "
   ]
  },
  {
   "cell_type": "markdown",
   "metadata": {},
   "source": [
    "我们先画出模型的初始分类效果"
   ]
  },
  {
   "cell_type": "code",
   "execution_count": 8,
   "metadata": {},
   "outputs": [],
   "source": [
    "sess = tf.InteractiveSession()\n",
    "init = tf.global_variables_initializer()\n",
    "sess.run(init)"
   ]
  },
  {
   "cell_type": "code",
   "execution_count": 9,
   "metadata": {},
   "outputs": [
    {
     "data": {
      "text/plain": [
       "<matplotlib.legend.Legend at 0x1f465652eb8>"
      ]
     },
     "execution_count": 9,
     "metadata": {},
     "output_type": "execute_result"
    },
    {
     "data": {
      "image/png": "[encoded data removed]",
      "text/plain": [
       "<Figure size 432x288 with 1 Axes>"
      ]
     },
     "metadata": {},
     "output_type": "display_data"
    }
   ],
   "source": [
    "w_numpy = w.eval()\n",
    "b_numpy = b.eval()\n",
    "\n",
    "w0 = w_numpy[0]\n",
    "w1 = w_numpy[1]\n",
    "\n",
    "plot_x = np.arange(-0.7, 1, 0.1)\n",
    "plot_y = (-w0 * plot_x - b_numpy) /w1\n",
    "\n",
    "plt.plot(plot_x, plot_y, 'g', label='cutting line')\n",
    "plt.plot(x0, y0, 'ro', label='x_0')\n",
    "plt.plot(x1, y1, 'bo', label='x_1')\n",
    "plt.legend(loc='best')"
   ]
  },
  {
   "cell_type": "markdown",
   "metadata": {},
   "source": [
    "# 优化模型\n",
    "定义损失函数 $loss=-(y\\log(\\hat{y})+(1-y)\\log(1-\\hat{y}))$"
   ]
  },
  {
   "cell_type": "code",
   "execution_count": 10,
   "metadata": {
    "collapsed": true
   },
   "outputs": [],
   "source": [
    "def binary_loss(y_pred, y):\n",
    "    logit = tf.reduce_mean((y*tf.log(y_pred)+(1-y)*tf.log(1-y_pred)))\n",
    "    return -logit"
   ]
  },
  {
   "cell_type": "code",
   "execution_count": 11,
   "metadata": {},
   "outputs": [
    {
     "name": "stdout",
     "output_type": "stream",
     "text": [
      "0.6533321\n"
     ]
    }
   ],
   "source": [
    "y_pred = logistic_regression(x)\n",
    "loss = binary_loss(y_pred, y)\n",
    "\n",
    "print(loss.eval())"
   ]
  },
  {
   "cell_type": "markdown",
   "metadata": {},
   "source": [
    "我们继续用梯度下降法来进行模型优化"
   ]
  },
  {
   "cell_type": "code",
   "execution_count": 12,
   "metadata": {},
   "outputs": [
    {
     "name": "stdout",
     "output_type": "stream",
     "text": [
      "0.65149015\n"
     ]
    }
   ],
   "source": [
    "# 梯度计算以及参数更新\n",
    "w_grad, b_grad = tf.gradients(loss, [w, b])\n",
    "\n",
    "lr = 0.1\n",
    "\n",
    "w_updata = w.assign_sub(lr*w_grad)\n",
    "b_updata = b.assign_sub(lr*b_grad)\n",
    "\n",
    "# 更新一次参数\n",
    "sess.run([w_updata,b_updata])\n",
    "print(loss.eval())"
   ]
  },
  {
   "cell_type": "markdown",
   "metadata": {},
   "source": [
    "上面的参数更新方式其实是繁琐的重复操作, 如果我们参数很多(比如>100), 那么按照上面的方式我们需要写非常多的参数更新op, 这是非常耗时的. 然而, 不用担心, tensorflow已经集成了一套方法来做这个事情, 就是tf.train.Optimizer(优化器)"
   ]
  },
  {
   "cell_type": "code",
   "execution_count": 13,
   "metadata": {},
   "outputs": [],
   "source": [
    "# 首先从tf.train中定义一个优化方法\n",
    "optimizer = tf.train.GradientDescentOptimizer(learning_rate=1, \n",
    "                                              name='optimizer')\n",
    "# 利用这个优化方法去优化一个损失函数, 得到的这个`op`就是我们想要的\n",
    "train_op = optimizer.minimize(loss)"
   ]
  },
  {
   "cell_type": "markdown",
   "metadata": {},
   "source": [
    "现在我们得到了一个train_op, 它实际上等价于上面更新模型的所有操作, 也就是说train_op = 计算梯度 + 参数更新"
   ]
  },
  {
   "cell_type": "code",
   "execution_count": 14,
   "metadata": {},
   "outputs": [
    {
     "name": "stdout",
     "output_type": "stream",
     "text": [
      "Epoch 10  Loss 0.61  Accuracy 0.69\n",
      "Epoch 20  Loss 0.49  Accuracy 0.84\n",
      "Epoch 30  Loss 0.42  Accuracy 0.94\n",
      "Epoch 40  Loss 0.38  Accuracy 0.96\n",
      "Epoch 50  Loss 0.35  Accuracy 0.97\n",
      "Epoch 60  Loss 0.33  Accuracy 0.97\n",
      "Epoch 70  Loss 0.31  Accuracy 0.97\n",
      "Epoch 80  Loss 0.29  Accuracy 0.97\n",
      "Epoch 90  Loss 0.28  Accuracy 0.97\n",
      "Epoch 100  Loss 0.27  Accuracy 0.97\n",
      "\n",
      "cost time:3129261426.64\n"
     ]
    }
   ],
   "source": [
    "import time\n",
    "sess.run(init)\n",
    "start = time.time()\n",
    "for i in range(100):\n",
    "    sess.run(train_op)\n",
    "    if (i+1)%10 == 0:\n",
    "        y_true_label = y.eval()\n",
    "        y_pred_numpy = y_pred.eval()\n",
    "        y_pred_label = np.greater_equal(y_pred_numpy, 0.5).astype(np.float32)\n",
    "        accuracy = np.mean(y_pred_label==y_true_label)\n",
    "        loss_numpy = loss.eval()\n",
    "        print('Epoch %d  Loss %.2f  Accuracy %.2f'%(i+1, loss_numpy, accuracy))\n",
    "print()\n",
    "print('cost time:%.2f'%(time.time()+start))"
   ]
  },
  {
   "cell_type": "code",
   "execution_count": 16,
   "metadata": {},
   "outputs": [
    {
     "data": {
      "text/plain": [
       "<matplotlib.legend.Legend at 0x1f403190748>"
      ]
     },
     "execution_count": 16,
     "metadata": {},
     "output_type": "execute_result"
    },
    {
     "data": {
      "image/png": "[encoded data removed]",
      "text/plain": [
       "<Figure size 432x288 with 1 Axes>"
      ]
     },
     "metadata": {},
     "output_type": "display_data"
    }
   ],
   "source": [
    "w_numpy = w.eval()\n",
    "b_numpy = b.eval()\n",
    "\n",
    "w0 = w_numpy[0]\n",
    "w1 = w_numpy[1]\n",
    "\n",
    "plot_x = np.arange(-1, 1, 0.1)\n",
    "plot_y = (-w0 * plot_x - b_numpy) /w1\n",
    "\n",
    "plt.plot(plot_x, plot_y, 'g', label='cutting line')\n",
    "plt.plot(x0, y0, 'ro', label='x_0')\n",
    "plt.plot(x1, y1, 'bo', label='x_1')\n",
    "plt.legend(loc='best')"
   ]
  },
  {
   "cell_type": "markdown",
   "metadata": {},
   "source": [
    "前面我们使用了自己写的 loss，其实tensorflow已经为我们写好了一些常⻅的 loss，比如线性回归里面的 loss是tf.losses.mean_squared_error()，而 Logistic 回归的二分类 loss 在tensorflow中是tf.losses.log_loss<br><a href='https://tensorflow.google.cn/api_docs/python/tf/losses?spm=5176.12282072.0.0.40e3204247ZYaY'>官网loss函数文档<a/>"
   ]
  },
  {
   "cell_type": "markdown",
   "metadata": {},
   "source": [
    "tensorflow为我们实现的 loss 函数有两个好处，第一是方便我们使用，不需要重复造轮子，第二就是其实现是在底层 C++ 语言上的，所以速度上和稳定性上都要比我们自己实现的要好"
   ]
  },
  {
   "cell_type": "code",
   "execution_count": 18,
   "metadata": {},
   "outputs": [],
   "source": [
    "loss1 = tf.losses.log_loss(labels=y, predictions=y_pred)\n",
    "optimizer1 = tf.train.GradientDescentOptimizer(learning_rate=lr)\n",
    "train_op = optimizer1.minimize(loss1)"
   ]
  },
  {
   "cell_type": "code",
   "execution_count": null,
   "metadata": {
    "collapsed": true
   },
   "outputs": [],
   "source": [
    "sess.run(init)\n",
    "start = time.time()\n",
    "for i in range(100):\n",
    "    sess.run(train_op)\n",
    "    if (i+1)%10 == 0:\n",
    "        y_label = y.eval()\n",
    "        y_pred_numpy = y_pred.eval()\n",
    "        y_pred_label = np.greater_equal(y_pred_numpy, 0.5).astype(np.float32)\n",
    "        accuracy = np.mean(y_pred_label==y_label)\n",
    "        loss "
   ]
  }
 ],
 "metadata": {
  "kernelspec": {
   "display_name": "tensorflow-gpu",
   "language": "python",
   "name": "tensorflow-gpu"
  },
  "language_info": {
   "codemirror_mode": {
    "name": "ipython",
    "version": 3
   },
   "file_extension": ".py",
   "mimetype": "text/x-python",
   "name": "python",
   "nbconvert_exporter": "python",
   "pygments_lexer": "ipython3",
   "version": "3.6.2"
  }
 },
 "nbformat": 4,
 "nbformat_minor": 2
}
