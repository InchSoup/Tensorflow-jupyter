{
 "cells": [
  {
   "cell_type": "markdown",
   "metadata": {},
   "source": [
    "# Random\n",
    "TensorFlow提供多种随机化的方式"
   ]
  },
  {
   "cell_type": "code",
   "execution_count": 1,
   "metadata": {
    "collapsed": true
   },
   "outputs": [],
   "source": [
    "import tensorflow as tf"
   ]
  },
  {
   "cell_type": "code",
   "execution_count": 2,
   "metadata": {},
   "outputs": [
    {
     "name": "stdout",
     "output_type": "stream",
     "text": [
      "time:0\n",
      "rand_normal:-0.2935\n",
      "truncated_normal:-0.2197\n",
      "rand_uniform:0.0665\n",
      "\n",
      "time:1\n",
      "rand_normal:0.0607\n",
      "truncated_normal:0.4101\n",
      "rand_uniform:0.0363\n",
      "\n",
      "time:2\n",
      "rand_normal:-1.8417\n",
      "truncated_normal:0.2330\n",
      "rand_uniform:0.3905\n",
      "\n",
      "time:3\n",
      "rand_normal:-1.0554\n",
      "truncated_normal:0.2510\n",
      "rand_uniform:0.2494\n",
      "\n",
      "time:4\n",
      "rand_normal:0.4867\n",
      "truncated_normal:1.0953\n",
      "rand_uniform:0.7071\n",
      "\n"
     ]
    }
   ],
   "source": [
    "#标准正态随机分布\n",
    "rand_normal = tf.random_normal((), mean=0.0, stddev=1.0,\n",
    "                               dtype=tf.float32, seed=None)\n",
    "#截断正态分布\n",
    "truncated_normal = tf.truncated_normal((), mean=0.0, stddev=1.0,\n",
    "                                      dtype=tf.float32, seed=None)\n",
    "\n",
    "#均匀随机分布\n",
    "rand_uniform = tf.random_uniform((), minval=0.0, maxval=1.0,\n",
    "                                dtype=tf.float32, seed=None)\n",
    "\n",
    "sess = tf.Session()\n",
    "for i in range(5):\n",
    "    print('time:%d'%i)\n",
    "    print('rand_normal:%.4f'%sess.run(rand_normal))\n",
    "    print('truncated_normal:%.4f'%sess.run(truncated_normal))\n",
    "    print('rand_uniform:%.4f\\n'%sess.run(rand_uniform))"
   ]
  },
  {
   "cell_type": "markdown",
   "metadata": {},
   "source": [
    "# Variables\n",
    "前面的这些是tensorflow的一些常量tensor, 通常来说它们一旦被定义就无法更改. 在我们训练机器学习模型的时候, 最重要的一步便是更新参数, 这些常量tensor无法满足.那么我们就需要变量(variables).先看看变量如何定义"
   ]
  },
  {
   "cell_type": "code",
   "execution_count": 3,
   "metadata": {},
   "outputs": [
    {
     "name": "stdout",
     "output_type": "stream",
     "text": [
      "<tf.Variable 'Variable:0' shape=() dtype=int32_ref>\n",
      "<tf.Variable 'Variable_1:0' shape=(2,) dtype=int32_ref>\n",
      "<tf.Variable 'Variable_2:0' shape=(1024, 10) dtype=float32_ref>\n"
     ]
    }
   ],
   "source": [
    "var_a = tf.Variable(0, dtype=tf.int32)\n",
    "var_b = tf.Variable([1,2], dtype=tf.int32)\n",
    "var_w = tf.Variable(tf.zeros((1024,10)))\n",
    "\n",
    "print(var_a)\n",
    "print(var_b)\n",
    "print(var_w)"
   ]
  },
  {
   "cell_type": "markdown",
   "metadata": {},
   "source": [
    "### InteractiveSession()\n",
    "每个变量都有一个initializer的函数, 规定这个变量的初始值是什么. 因此, 在执行图的过程中必须要先初始化变量后才能够使用<br>\n",
    "可以通过下面的这些方法进行初始化在此之前, 我们先了解一下tensorflow的交互式session:InteractiveSession(),在处理variable的时候, 它比普通的Session更为灵活一点"
   ]
  },
  {
   "cell_type": "code",
   "execution_count": 7,
   "metadata": {},
   "outputs": [],
   "source": [
    "##开启交互式‘Session’\n",
    "sess = tf.InteractiveSession()\n",
    "##一次性初始化所有的变量\n",
    "init = tf.global_variables_initializer()\n",
    "###一般`session`的方法\n",
    "sess.run(init)\n",
    "###`InteractiveSession`的方法\n",
    "init.run()"
   ]
  },
  {
   "cell_type": "code",
   "execution_count": 8,
   "metadata": {},
   "outputs": [],
   "source": [
    "##初始化某些变量\n",
    "init_ab = tf.variables_initializer([var_a,var_b])\n",
    "init_ab.run()\n",
    "## 初始化某个变量\n",
    "var_w.initializer.run()"
   ]
  },
  {
   "cell_type": "markdown",
   "metadata": {},
   "source": [
    "### eval()\n",
    "初始化完成后仍然不能打印值, 需要用session去run这个variable<br>\n",
    "或者是调用InteractiveSession下面的eval()函数"
   ]
  },
  {
   "cell_type": "code",
   "execution_count": 9,
   "metadata": {},
   "outputs": [
    {
     "name": "stdout",
     "output_type": "stream",
     "text": [
      "<tf.Variable 'Variable_3:0' shape=() dtype=int32_ref>\n",
      "10\n",
      "10\n"
     ]
    }
   ],
   "source": [
    "W = tf.Variable(10)\n",
    "sess.run(W.initializer)\n",
    "print(W)\n",
    "print(sess.run(W))\n",
    "print(W.eval())"
   ]
  },
  {
   "cell_type": "markdown",
   "metadata": {},
   "source": [
    "### assign\n",
    "assign是为variable赋值的一个op,大家可以看下面的代码来理解operation和assign的应用"
   ]
  },
  {
   "cell_type": "code",
   "execution_count": 11,
   "metadata": {},
   "outputs": [
    {
     "name": "stdout",
     "output_type": "stream",
     "text": [
      "10\n"
     ]
    }
   ],
   "source": [
    "W.assign(100)\n",
    "W.initializer.run()\n",
    "print(W.eval(sess))"
   ]
  },
  {
   "cell_type": "code",
   "execution_count": 16,
   "metadata": {},
   "outputs": [
    {
     "name": "stdout",
     "output_type": "stream",
     "text": [
      "100\n"
     ]
    }
   ],
   "source": [
    "assign_op = W.assign(100)\n",
    "W.initializer.run()\n",
    "assign_op.eval()\n",
    "print(W.eval())"
   ]
  },
  {
   "cell_type": "markdown",
   "metadata": {},
   "source": [
    "### assign_add和assign_sub\n",
    "assign_add和assign_sub对应与我们平常理解的i++和i--, 也是variable的常用op"
   ]
  },
  {
   "cell_type": "code",
   "execution_count": 15,
   "metadata": {},
   "outputs": [
    {
     "name": "stdout",
     "output_type": "stream",
     "text": [
      "10\n",
      "20\n",
      "30\n",
      "28\n",
      "28\n"
     ]
    }
   ],
   "source": [
    "assign_add = W.assign_add(10)\n",
    "assign_sub = W.assign_sub(2)\n",
    "\n",
    "W.initializer.run()\n",
    "print(W.eval())\n",
    "print(assign_add.eval())\n",
    "print(assign_add.eval())\n",
    "print(assign_sub.eval())\n",
    "print(W.eval())"
   ]
  },
  {
   "cell_type": "markdown",
   "metadata": {},
   "source": [
    "### name_scope和variable_scope\n",
    "可以给一些 tensor 添加一个名称域，这样所有的变量名称都有一个共同的前缀<br>可以通过tf.name_scope或者tf.variable_scope来实现"
   ]
  },
  {
   "cell_type": "code",
   "execution_count": null,
   "metadata": {
    "collapsed": true
   },
   "outputs": [],
   "source": [
    "with tf.name_scope('name_scope'):\n",
    "    var_a = tf.Variable(0,dtype=tf.int32)\n",
    "    var_b = tf.Variable([1,2],dtype=tf.float32)\n",
    "with tf.name_scope('')"
   ]
  }
 ],
 "metadata": {
  "kernelspec": {
   "display_name": "tensorflow-gpu",
   "language": "python",
   "name": "tensorflow-gpu"
  },
  "language_info": {
   "codemirror_mode": {
    "name": "ipython",
    "version": 3
   },
   "file_extension": ".py",
   "mimetype": "text/x-python",
   "name": "python",
   "nbconvert_exporter": "python",
   "pygments_lexer": "ipython3",
   "version": "3.6.2"
  }
 },
 "nbformat": 4,
 "nbformat_minor": 2
}
